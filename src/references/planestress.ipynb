{
 "cells": [
  {
   "cell_type": "code",
   "execution_count": 95,
   "metadata": {},
   "outputs": [
    {
     "data": {
      "text/plain": [
       "'\\nMachine learning for the 2D planestress problem using ensemble models\\nLast Updated : 04/04/2019, by Hyungmin Jun (hyungminjun@outlook.com)\\n\\n=============================================================================\\n\\nCopyright 2019 Hyungmin Jun. All rights reserved.\\n\\nLicense - GPL version 3\\nThis program is free software: you can redistribute it and/or modify it under\\nthe terms of the GNU General Public License as published by the Free Software\\nFoundation, either version 3 of the License, or any later version. This\\nprogram is distributed in the hope that it will be useful, but WITHOUT ANY\\nWARRANTY; without even the implied warranty of MERCHANTABILITY or FITNESS FOR\\nA PARTICULAR PURPOSE. See the GNU General Public License for more details.\\nYou should have received a copy of the GNU General Public License along with\\nthis program. If not, see <http://www.gnu.org/licenses/>.\\n'"
      ]
     },
     "execution_count": 95,
     "metadata": {},
     "output_type": "execute_result"
    }
   ],
   "source": [
    "'''\n",
    "Machine learning for the 2D planestress problem using ensemble models\n",
    "Last Updated : 04/04/2019, by Hyungmin Jun (hyungminjun@outlook.com)\n",
    "\n",
    "=============================================================================\n",
    "\n",
    "Copyright 2019 Hyungmin Jun. All rights reserved.\n",
    "\n",
    "License - GPL version 3\n",
    "This program is free software: you can redistribute it and/or modify it under\n",
    "the terms of the GNU General Public License as published by the Free Software\n",
    "Foundation, either version 3 of the License, or any later version. This\n",
    "program is distributed in the hope that it will be useful, but WITHOUT ANY\n",
    "WARRANTY; without even the implied warranty of MERCHANTABILITY or FITNESS FOR\n",
    "A PARTICULAR PURPOSE. See the GNU General Public License for more details.\n",
    "You should have received a copy of the GNU General Public License along with\n",
    "this program. If not, see <http://www.gnu.org/licenses/>.\n",
    "'''"
   ]
  },
  {
   "cell_type": "code",
   "execution_count": 96,
   "metadata": {},
   "outputs": [],
   "source": [
    "import numpy as np\n",
    "import seaborn as sns\n",
    "import matplotlib.pyplot as plt\n",
    "import glob\n",
    "import time\n",
    "\n",
    "from keras.models import Model\n",
    "from keras.layers import Input, Dense, concatenate\n",
    "\n",
    "from sklearn.preprocessing import *\n",
    "from numpy.linalg import inv\n",
    "\n",
    "from sklearn.model_selection import train_test_split\n",
    "from sklearn.metrics import classification_report, confusion_matrix\n",
    "\n",
    "%matplotlib inline"
   ]
  },
  {
   "cell_type": "code",
   "execution_count": 97,
   "metadata": {},
   "outputs": [
    {
     "name": "stdout",
     "output_type": "stream",
     "text": [
      "x1_train =  (86536, 2)\n",
      "x2_train =  (86536,)\n",
      "y_train  =  (86536,)\n",
      "\n",
      "x1_test  =  (21635, 2)\n",
      "x2_test  =  (21635,)\n",
      "y_test   =  (21635,)\n"
     ]
    }
   ],
   "source": [
    "allfiles = glob.glob('../data/stress_planestress\\\\*.csv')\n",
    "\n",
    "num_datapoints = 1071\n",
    "\n",
    "in_data  = np.zeros([len(allfiles) * num_datapoints, 3])\n",
    "out_data = np.zeros(len(allfiles) * num_datapoints)\n",
    "\n",
    "for i, datafile in enumerate(allfiles):\n",
    "    \n",
    "    force = int(datafile.split('\\\\')[1].split('-')[0]) / float(50000)\n",
    "    \n",
    "    # Set force data\n",
    "    in_data[i * num_datapoints:(i + 1) * num_datapoints, 0] = np.array([force] * num_datapoints)\n",
    "    \n",
    "    data = np.loadtxt(fname = datafile, delimiter = ' ')\n",
    "    \n",
    "    # Set x position\n",
    "    in_data[i * num_datapoints:(i + 1) * num_datapoints, 1] = data[:, 0]\n",
    "    \n",
    "    # Set y posistion\n",
    "    in_data[i * num_datapoints:(i + 1) * num_datapoints, 2] = data[:, 1]\n",
    "    \n",
    "    # Set the stress\n",
    "    out_data[i * num_datapoints:(i + 1) * num_datapoints] = data[:, 3] / float(50000)\n",
    "\n",
    "# Split arrays or matrices into random train and test subsets\n",
    "# Parameters:\n",
    "# test_size : float, int or None, optional (default=0.25)\n",
    "# random_state : int, RandomState instance or None, optional (default=None)\n",
    "# shuffle : boolean, optional (default=True)\n",
    "x_train, x_test, y_train, y_test = train_test_split(in_data, out_data, test_size=0.2, random_state=1, shuffle=True)\n",
    "\n",
    "# xy_train; x and y position vectors\n",
    "x1_train = x_train[:, 1:]\n",
    "\n",
    "# xy_test; x and y position vectors\n",
    "x1_test = x_test[:, 1:]\n",
    "\n",
    "# force_train; \n",
    "x2_train = x_train[:, 0]\n",
    "\n",
    "# force_test; \n",
    "x2_test = x_test[:, 0]\n",
    "\n",
    "print('x1_train = ', x1_train.shape)\n",
    "print('x2_train = ', x2_train.shape)\n",
    "print('y_train  = ', y_train.shape)\n",
    "print('')\n",
    "print('x1_test  = ', x1_test.shape)\n",
    "print('x2_test  = ', x2_test.shape)\n",
    "print('y_test   = ', y_test.shape)"
   ]
  },
  {
   "cell_type": "code",
   "execution_count": 98,
   "metadata": {},
   "outputs": [],
   "source": [
    "def abs_pred(y_true, y_pred):\n",
    "    return abs((y_true - y_pred) / y_true) < 0.1"
   ]
  },
  {
   "cell_type": "code",
   "execution_count": 99,
   "metadata": {},
   "outputs": [],
   "source": [
    "import keras.backend as K\n",
    "def mean_pred(y_true, y_pred):\n",
    "    return K.mean(y_pred)"
   ]
  },
  {
   "cell_type": "code",
   "execution_count": 100,
   "metadata": {},
   "outputs": [
    {
     "name": "stdout",
     "output_type": "stream",
     "text": [
      "__________________________________________________________________________________________________\n",
      "Layer (type)                    Output Shape         Param #     Connected to                     \n",
      "==================================================================================================\n",
      "input_15 (InputLayer)           (None, 2)            0                                            \n",
      "__________________________________________________________________________________________________\n",
      "input_16 (InputLayer)           (None, 1)            0                                            \n",
      "__________________________________________________________________________________________________\n",
      "dense_36 (Dense)                (None, 20)           60          input_15[0][0]                   \n",
      "__________________________________________________________________________________________________\n",
      "dense_37 (Dense)                (None, 20)           40          input_16[0][0]                   \n",
      "__________________________________________________________________________________________________\n",
      "concatenate_8 (Concatenate)     (None, 40)           0           dense_36[0][0]                   \n",
      "                                                                 dense_37[0][0]                   \n",
      "__________________________________________________________________________________________________\n",
      "dense_38 (Dense)                (None, 20)           820         concatenate_8[0][0]              \n",
      "__________________________________________________________________________________________________\n",
      "dense_39 (Dense)                (None, 20)           420         dense_38[0][0]                   \n",
      "__________________________________________________________________________________________________\n",
      "dense_40 (Dense)                (None, 1)            21          dense_39[0][0]                   \n",
      "==================================================================================================\n",
      "Total params: 1,361\n",
      "Trainable params: 1,361\n",
      "Non-trainable params: 0\n",
      "__________________________________________________________________________________________________\n",
      "Train on 86536 samples, validate on 21635 samples\n",
      "Epoch 1/50\n",
      " - 1s - loss: 0.1685 - acc: 0.0098 - abs_pred: 0.6221 - val_loss: 0.1135 - val_acc: 0.0097 - val_abs_pred: 0.7007\n",
      "Epoch 2/50\n",
      " - 1s - loss: 0.0910 - acc: 0.0100 - abs_pred: 0.7433 - val_loss: 0.0748 - val_acc: 0.0096 - val_abs_pred: 0.7850\n",
      "Epoch 3/50\n",
      " - 1s - loss: 0.0641 - acc: 0.0098 - abs_pred: 0.7979 - val_loss: 0.0593 - val_acc: 0.0096 - val_abs_pred: 0.8156\n",
      "Epoch 4/50\n",
      " - 1s - loss: 0.0465 - acc: 0.0099 - abs_pred: 0.8407 - val_loss: 0.0427 - val_acc: 0.0097 - val_abs_pred: 0.8527\n",
      "Epoch 5/50\n",
      " - 1s - loss: 0.0376 - acc: 0.0100 - abs_pred: 0.8608 - val_loss: 0.0366 - val_acc: 0.0097 - val_abs_pred: 0.8679\n",
      "Epoch 6/50\n",
      " - 1s - loss: 0.0321 - acc: 0.0100 - abs_pred: 0.8735 - val_loss: 0.0303 - val_acc: 0.0097 - val_abs_pred: 0.8672\n",
      "Epoch 7/50\n",
      " - 1s - loss: 0.0289 - acc: 0.0100 - abs_pred: 0.8795 - val_loss: 0.0289 - val_acc: 0.0097 - val_abs_pred: 0.8825\n",
      "Epoch 8/50\n",
      " - 1s - loss: 0.0267 - acc: 0.0100 - abs_pred: 0.8825 - val_loss: 0.0236 - val_acc: 0.0097 - val_abs_pred: 0.8899\n",
      "Epoch 9/50\n",
      " - 1s - loss: 0.0246 - acc: 0.0100 - abs_pred: 0.8853 - val_loss: 0.0230 - val_acc: 0.0097 - val_abs_pred: 0.8972\n",
      "Epoch 10/50\n",
      " - 1s - loss: 0.0224 - acc: 0.0100 - abs_pred: 0.8906 - val_loss: 0.0217 - val_acc: 0.0097 - val_abs_pred: 0.8913\n",
      "Epoch 11/50\n",
      " - 1s - loss: 0.0211 - acc: 0.0100 - abs_pred: 0.8931 - val_loss: 0.0198 - val_acc: 0.0097 - val_abs_pred: 0.8968\n",
      "Epoch 12/50\n",
      " - 1s - loss: 0.0197 - acc: 0.0100 - abs_pred: 0.8959 - val_loss: 0.0170 - val_acc: 0.0097 - val_abs_pred: 0.9057\n",
      "Epoch 13/50\n",
      " - 1s - loss: 0.0192 - acc: 0.0100 - abs_pred: 0.8969 - val_loss: 0.0174 - val_acc: 0.0097 - val_abs_pred: 0.9042\n",
      "Epoch 14/50\n",
      " - 1s - loss: 0.0182 - acc: 0.0100 - abs_pred: 0.9002 - val_loss: 0.0161 - val_acc: 0.0096 - val_abs_pred: 0.9101\n",
      "Epoch 15/50\n",
      " - 1s - loss: 0.0180 - acc: 0.0100 - abs_pred: 0.9004 - val_loss: 0.0166 - val_acc: 0.0097 - val_abs_pred: 0.9089\n",
      "Epoch 16/50\n",
      " - 1s - loss: 0.0182 - acc: 0.0100 - abs_pred: 0.8996 - val_loss: 0.0194 - val_acc: 0.0097 - val_abs_pred: 0.8975\n",
      "Epoch 17/50\n",
      " - 1s - loss: 0.0175 - acc: 0.0100 - abs_pred: 0.9037 - val_loss: 0.0209 - val_acc: 0.0097 - val_abs_pred: 0.8911\n",
      "Epoch 18/50\n",
      " - 1s - loss: 0.0172 - acc: 0.0100 - abs_pred: 0.9035 - val_loss: 0.0167 - val_acc: 0.0097 - val_abs_pred: 0.9112\n",
      "Epoch 19/50\n",
      " - 1s - loss: 0.0171 - acc: 0.0100 - abs_pred: 0.9042 - val_loss: 0.0192 - val_acc: 0.0097 - val_abs_pred: 0.8919\n",
      "Epoch 20/50\n",
      " - 1s - loss: 0.0168 - acc: 0.0100 - abs_pred: 0.9068 - val_loss: 0.0168 - val_acc: 0.0097 - val_abs_pred: 0.9063\n",
      "Epoch 21/50\n",
      " - 1s - loss: 0.0166 - acc: 0.0100 - abs_pred: 0.9067 - val_loss: 0.0157 - val_acc: 0.0097 - val_abs_pred: 0.9129\n",
      "Epoch 22/50\n",
      " - 1s - loss: 0.0162 - acc: 0.0100 - abs_pred: 0.9096 - val_loss: 0.0152 - val_acc: 0.0097 - val_abs_pred: 0.9139\n",
      "Epoch 23/50\n",
      " - 1s - loss: 0.0160 - acc: 0.0100 - abs_pred: 0.9105 - val_loss: 0.0144 - val_acc: 0.0097 - val_abs_pred: 0.9124\n",
      "Epoch 24/50\n",
      " - 1s - loss: 0.0163 - acc: 0.0100 - abs_pred: 0.9086 - val_loss: 0.0153 - val_acc: 0.0097 - val_abs_pred: 0.9204\n",
      "Epoch 25/50\n",
      " - 1s - loss: 0.0160 - acc: 0.0100 - abs_pred: 0.9110 - val_loss: 0.0145 - val_acc: 0.0097 - val_abs_pred: 0.9193\n",
      "Epoch 26/50\n",
      " - 1s - loss: 0.0160 - acc: 0.0100 - abs_pred: 0.9105 - val_loss: 0.0155 - val_acc: 0.0097 - val_abs_pred: 0.9117\n",
      "Epoch 27/50\n",
      " - 1s - loss: 0.0156 - acc: 0.0100 - abs_pred: 0.9116 - val_loss: 0.0160 - val_acc: 0.0097 - val_abs_pred: 0.9047\n",
      "Epoch 28/50\n",
      " - 1s - loss: 0.0156 - acc: 0.0100 - abs_pred: 0.9125 - val_loss: 0.0158 - val_acc: 0.0097 - val_abs_pred: 0.9134\n",
      "Epoch 29/50\n",
      " - 1s - loss: 0.0151 - acc: 0.0100 - abs_pred: 0.9143 - val_loss: 0.0136 - val_acc: 0.0097 - val_abs_pred: 0.9228\n",
      "Epoch 30/50\n",
      " - 1s - loss: 0.0152 - acc: 0.0100 - abs_pred: 0.9139 - val_loss: 0.0137 - val_acc: 0.0097 - val_abs_pred: 0.9231\n",
      "Epoch 31/50\n",
      " - 1s - loss: 0.0159 - acc: 0.0100 - abs_pred: 0.9111 - val_loss: 0.0133 - val_acc: 0.0097 - val_abs_pred: 0.9231\n",
      "Epoch 32/50\n",
      " - 1s - loss: 0.0148 - acc: 0.0100 - abs_pred: 0.9157 - val_loss: 0.0138 - val_acc: 0.0097 - val_abs_pred: 0.9160\n",
      "Epoch 33/50\n",
      " - 1s - loss: 0.0150 - acc: 0.0100 - abs_pred: 0.9144 - val_loss: 0.0158 - val_acc: 0.0097 - val_abs_pred: 0.9142\n",
      "Epoch 34/50\n",
      " - 1s - loss: 0.0149 - acc: 0.0100 - abs_pred: 0.9148 - val_loss: 0.0194 - val_acc: 0.0097 - val_abs_pred: 0.8832\n",
      "Epoch 35/50\n",
      " - 1s - loss: 0.0147 - acc: 0.0100 - abs_pred: 0.9159 - val_loss: 0.0176 - val_acc: 0.0097 - val_abs_pred: 0.8989\n",
      "Epoch 36/50\n",
      " - 1s - loss: 0.0148 - acc: 0.0100 - abs_pred: 0.9152 - val_loss: 0.0133 - val_acc: 0.0097 - val_abs_pred: 0.9210\n",
      "Epoch 37/50\n",
      " - 1s - loss: 0.0141 - acc: 0.0100 - abs_pred: 0.9189 - val_loss: 0.0209 - val_acc: 0.0097 - val_abs_pred: 0.8891\n",
      "Epoch 38/50\n",
      " - 1s - loss: 0.0143 - acc: 0.0100 - abs_pred: 0.9176 - val_loss: 0.0136 - val_acc: 0.0097 - val_abs_pred: 0.9120\n",
      "Epoch 39/50\n",
      " - 1s - loss: 0.0142 - acc: 0.0100 - abs_pred: 0.9179 - val_loss: 0.0181 - val_acc: 0.0097 - val_abs_pred: 0.8924\n",
      "Epoch 40/50\n",
      " - 1s - loss: 0.0140 - acc: 0.0100 - abs_pred: 0.9197 - val_loss: 0.0182 - val_acc: 0.0097 - val_abs_pred: 0.8993\n",
      "Epoch 41/50\n",
      " - 1s - loss: 0.0140 - acc: 0.0100 - abs_pred: 0.9194 - val_loss: 0.0142 - val_acc: 0.0097 - val_abs_pred: 0.9176\n",
      "Epoch 42/50\n",
      " - 1s - loss: 0.0139 - acc: 0.0100 - abs_pred: 0.9212 - val_loss: 0.0156 - val_acc: 0.0097 - val_abs_pred: 0.9092\n",
      "Epoch 43/50\n",
      " - 1s - loss: 0.0140 - acc: 0.0100 - abs_pred: 0.9203 - val_loss: 0.0129 - val_acc: 0.0097 - val_abs_pred: 0.9266\n",
      "Epoch 44/50\n",
      " - 1s - loss: 0.0143 - acc: 0.0100 - abs_pred: 0.9186 - val_loss: 0.0143 - val_acc: 0.0097 - val_abs_pred: 0.9273\n",
      "Epoch 45/50\n",
      " - 1s - loss: 0.0136 - acc: 0.0100 - abs_pred: 0.9214 - val_loss: 0.0128 - val_acc: 0.0097 - val_abs_pred: 0.9193\n",
      "Epoch 46/50\n",
      " - 1s - loss: 0.0133 - acc: 0.0100 - abs_pred: 0.9221 - val_loss: 0.0123 - val_acc: 0.0097 - val_abs_pred: 0.9256\n",
      "Epoch 47/50\n",
      " - 1s - loss: 0.0130 - acc: 0.0100 - abs_pred: 0.9258 - val_loss: 0.0132 - val_acc: 0.0097 - val_abs_pred: 0.9195\n",
      "Epoch 48/50\n",
      " - 1s - loss: 0.0135 - acc: 0.0100 - abs_pred: 0.9222 - val_loss: 0.0155 - val_acc: 0.0097 - val_abs_pred: 0.9172\n",
      "Epoch 49/50\n",
      " - 1s - loss: 0.0135 - acc: 0.0100 - abs_pred: 0.9215 - val_loss: 0.0140 - val_acc: 0.0097 - val_abs_pred: 0.9115\n",
      "Epoch 50/50\n",
      " - 1s - loss: 0.0129 - acc: 0.0100 - abs_pred: 0.9234 - val_loss: 0.0118 - val_acc: 0.0097 - val_abs_pred: 0.9248\n"
     ]
    }
   ],
   "source": [
    "numnodes = 20\n",
    "\n",
    "# Input layer #1, x and y coordinate\n",
    "input1 = Input(shape=(2, ))\n",
    "\n",
    "# Input layer #2, force\n",
    "input2 = Input(shape=(1, ))\n",
    "\n",
    "# Model 1\n",
    "x1 = Dense(numnodes, activation='tanh')(input1)\n",
    "#x1 = Dense(2, activation='tanh')(x1)\n",
    "#x1 = Dense(2, activation='tanh')(x1)\n",
    "\n",
    "# model 2 \n",
    "x2 = Dense(numnodes, activation='relu')(input2)\n",
    "#x2 = Dense(2, activation='relu')(x2)\n",
    "#x2 = Dense(2, activation='relu')(x2)\n",
    "\n",
    "# Merge models\n",
    "x3   = concatenate(inputs=[x1, x2])\n",
    "x3   = Dense(numnodes, activation='tanh')(x3)\n",
    "x3   = Dense(numnodes, activation='tanh')(x3)\n",
    "pred = Dense(1,        activation='linear')(x3)\n",
    "\n",
    "# Creates a model that includes the Input layers and three Dense layers\n",
    "model = Model(inputs=[input1, input2], outputs=pred)\n",
    "\n",
    "# Compile the model\n",
    "#model.compile(loss='mean_absolute_error', optimizer='rmsprop', metrics=['accuracy', abs_pred])\n",
    "model.compile(loss='mean_absolute_error', optimizer='adam', metrics=['accuracy', abs_pred])\n",
    "model.summary()\n",
    "\n",
    "# Train the model\n",
    "#hist = model.fit([x1_train, x2_train], y_train, epochs=50, batch_size=100, verbose=2)\n",
    "hist = model.fit([x1_train, x2_train], y_train, validation_data=([x1_test, x2_test], y_test), epochs=50, batch_size=100, verbose=2)"
   ]
  },
  {
   "cell_type": "code",
   "execution_count": 101,
   "metadata": {},
   "outputs": [
    {
     "name": "stdout",
     "output_type": "stream",
     "text": [
      "21635/21635 [==============================] - 0s 15us/step\n",
      "[0.011756852271927678, 0.009660272706263, 0.9247977813727756]\n"
     ]
    }
   ],
   "source": [
    "score = model.evaluate([x1_test, x2_test], y_test)\n",
    "print(score)"
   ]
  },
  {
   "cell_type": "code",
   "execution_count": 102,
   "metadata": {},
   "outputs": [
    {
     "data": {
      "image/png": "[encoded data removed]",
      "text/plain": [
       "<Figure size 720x360 with 2 Axes>"
      ]
     },
     "metadata": {},
     "output_type": "display_data"
    }
   ],
   "source": [
    "import seaborn as sns\n",
    "sns.set(style=\"ticks\", color_codes=True)\n",
    "\n",
    "plt.figure(figsize=(10, 5))\n",
    "plt.subplot(1,2,1)\n",
    "plt.plot(hist.history['loss'], color='r')\n",
    "plt.plot(hist.history['val_loss'], color='b')\n",
    "plt.legend(['loss','val_loss'])\n",
    "plt.title('loss')\n",
    "plt.grid()\n",
    "\n",
    "plt.subplot(1,2,2)\n",
    "plt.plot(hist.history['abs_pred'], color='r')\n",
    "plt.plot(hist.history['val_abs_pred'], color='b')\n",
    "plt.legend(['abs_pred','val_abs_pred'])\n",
    "plt.title('accuracy')\n",
    "plt.grid()"
   ]
  },
  {
   "cell_type": "code",
   "execution_count": 103,
   "metadata": {},
   "outputs": [
    {
     "name": "stdout",
     "output_type": "stream",
     "text": [
      "[[ 378.12573  ]\n",
      " [ 739.64575  ]\n",
      " [1132.4342   ]\n",
      " ...\n",
      " [  -6.2350183]\n",
      " [ -56.63093  ]\n",
      " [ -95.762314 ]]\n"
     ]
    }
   ],
   "source": [
    "from numpy import genfromtxt\n",
    "data = genfromtxt('../data/stress_planestress\\\\0-sigmaSurface.csv', delimiter=' ')\n",
    "\n",
    "pos_xy = data[:, [0, 1]]\n",
    "stress = np.zeros(shape=(1071, 1))\n",
    "stress.fill(1000/50000)\n",
    "\n",
    "y_pred = model.predict([pos_xy, stress]) * 50000\n",
    "\n",
    "print(y_pred)"
   ]
  },
  {
   "cell_type": "code",
   "execution_count": null,
   "metadata": {},
   "outputs": [],
   "source": []
  }
 ],
 "metadata": {
  "kernelspec": {
   "display_name": "Python 3",
   "language": "python",
   "name": "python3"
  },
  "language_info": {
   "codemirror_mode": {
    "name": "ipython",
    "version": 3
   },
   "file_extension": ".py",
   "mimetype": "text/x-python",
   "name": "python",
   "nbconvert_exporter": "python",
   "pygments_lexer": "ipython3",
   "version": "3.6.8"
  }
 },
 "nbformat": 4,
 "nbformat_minor": 2
}
