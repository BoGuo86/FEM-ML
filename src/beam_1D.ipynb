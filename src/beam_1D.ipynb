{
 "cells": [
  {
   "cell_type": "code",
   "execution_count": 7,
   "metadata": {
    "collapsed": true
   },
   "outputs": [],
   "source": [
    "'''\n",
    "Machine learning for the 1D beam finite element\n",
    "Last Updated : 03/28/2019, by Hyungmin Jun (hyungminjun@outlook.com)\n",
    "\n",
    "=============================================================================\n",
    "\n",
    "Copyright 2019 Hyungmin Jun. All rights reserved.\n",
    "\n",
    "License - GPL version 3\n",
    "This program is free software: you can redistribute it and/or modify it under\n",
    "the terms of the GNU General Public License as published by the Free Software\n",
    "Foundation, either version 3 of the License, or any later version. This\n",
    "program is distributed in the hope that it will be useful, but WITHOUT ANY\n",
    "WARRANTY; without even the implied warranty of MERCHANTABILITY or FITNESS FOR\n",
    "A PARTICULAR PURPOSE. See the GNU General Public License for more details.\n",
    "You should have received a copy of the GNU General Public License along with\n",
    "this program. If not, see <http://www.gnu.org/licenses/>.\n",
    "'''\n",
    "\n",
    "import numpy as np\n",
    "import matplotlib.pyplot as plt\n",
    "from numpy.linalg import inv\n",
    "\n",
    "from keras.models import Sequential\n",
    "from keras.layers import Dense\n",
    "from numpy.linalg import inv\n",
    "\n",
    "%matplotlib inline\n",
    "\n",
    "np.random.seed(1)"
   ]
  },
  {
   "cell_type": "code",
   "execution_count": 8,
   "metadata": {
    "collapsed": true
   },
   "outputs": [],
   "source": [
    "# Stiffness matrix for the beam finite element\n",
    "def Stiffness_Beam(n_nde):\n",
    "    \n",
    "    # Define sectional and material properties\n",
    "    L = 1000          # m\n",
    "    E = 210000        # N/m**2\n",
    "    I = 0.801*10**6   # m**4\n",
    "\n",
    "    # The number of elements\n",
    "    n_ele = n_nde - 1\n",
    "    \n",
    "    # The number of degrees of freedom\n",
    "    n_dof = n_nde * 2    \n",
    "    \n",
    "    # Element stiffness matrix\n",
    "    L_e = L / n_ele\n",
    "    K_e = E*I/L_e**3 * np.matrix([\n",
    "        [  12,     -6*L_e,    -12,     -6*L_e],\n",
    "        [  -6*L_e,  4*L_e**2,   6*L_e,  2*L_e**2],\n",
    "        [ -12,      6*L_e,     12,      6*L_e],\n",
    "        [  -6*L_e,  2*L_e**2,   6*L_e,  4*L_e**2]])\n",
    "    \n",
    "    # Assemble stiffness matrix\n",
    "    K_mat = np.zeros([n_dof, n_dof])\n",
    "    for i in range(n_ele):\n",
    "        K_mat[2*i:2*i+4, 2*i:2*i+4] += K_e\n",
    "    \n",
    "    return K_mat"
   ]
  },
  {
   "cell_type": "code",
   "execution_count": 9,
   "metadata": {
    "collapsed": true
   },
   "outputs": [],
   "source": [
    "# External force vector\n",
    "def Ext_Force(n_dof):\n",
    "    load = 1000*(np.random.random(n_nde)*2-1)\n",
    "\n",
    "    # Force vector\n",
    "    R = np.zeros(n_dof)\n",
    "    R[0::2] = load\n",
    "    return R[2:]"
   ]
  },
  {
   "cell_type": "code",
   "execution_count": 10,
   "metadata": {},
   "outputs": [],
   "source": [
    "n_nde = 100\n",
    "n_dof = 2*n_nde\n",
    "K_mat = Stiffness_Beam(n_nde)\n",
    "\n",
    "# Impose boundary conditions\n",
    "K_mat = K_mat[2:, 2:]\n",
    "\n",
    "# Inverse stiffness matrix\n",
    "K_inv = inv(K_mat)\n",
    "\n",
    "# Make force vector set\n",
    "n_set = 10000\n",
    "U_set = np.zeros([n_set, n_nde])\n",
    "R_set = np.zeros([n_set, n_nde - 1])\n",
    "\n",
    "for i in range(n_set):\n",
    "    R = Ext_Force(n_dof)\n",
    "    U = np.matmul(K_inv, R)\n",
    "\n",
    "    v = U[0::2]\n",
    "    v = np.insert(v, 0, 0)\n",
    "    U_set[i, :] = v\n",
    "    R_set[i, :] = R[0::2]\n"
   ]
  },
  {
   "cell_type": "code",
   "execution_count": 29,
   "metadata": {
    "collapsed": true
   },
   "outputs": [
    {
     "name": "stdout",
     "output_type": "stream",
     "text": [
      "_________________________________________________________________\n",
      "Layer (type)                 Output Shape              Param #   \n",
      "=================================================================\n",
      "dense_28 (Dense)             (None, 100)               10000     \n",
      "_________________________________________________________________\n",
      "dense_29 (Dense)             (None, 100)               10100     \n",
      "_________________________________________________________________\n",
      "dense_30 (Dense)             (None, 100)               10100     \n",
      "=================================================================\n",
      "Total params: 30,200\n",
      "Trainable params: 30,200\n",
      "Non-trainable params: 0\n",
      "_________________________________________________________________\n"
     ]
    }
   ],
   "source": [
    "# Set train and test set with the ratio 8:2\n",
    "x_train = R_set[0:int(n_set*0.8), :]*1/10000\n",
    "y_train = U_set[0:int(n_set*0.8), :]\n",
    "x_test  = R_set[int(n_set*0.8):, :]*1/10000\n",
    "y_test  = U_set[int(n_set*0.8):, :]\n",
    "\n",
    "# Set the train model\n",
    "model = Sequential()\n",
    "model.add(Dense(100, activation='tanh', input_shape=(i_dim,)))\n",
    "model.add(Dense(100, activation='tanh'))\n",
    "model.add(Dense(n_nde, activation='linear'))\n",
    "\n",
    "model.compile(loss='mse', optimizer=\"adam\", metrics=['accuracy'])\n",
    "model.summary()"
   ]
  },
  {
   "cell_type": "code",
   "execution_count": 30,
   "metadata": {
    "collapsed": true
   },
   "outputs": [
    {
     "name": "stdout",
     "output_type": "stream",
     "text": [
      "Epoch 1/50\n",
      "8000/8000 [==============================] - 1s 79us/step - loss: 2.2415 - acc: 0.2347\n",
      "Epoch 2/50\n",
      "8000/8000 [==============================] - 0s 36us/step - loss: 0.0536 - acc: 0.4481\n",
      "Epoch 3/50\n",
      "8000/8000 [==============================] - 0s 35us/step - loss: 0.0400 - acc: 0.4581\n",
      "Epoch 4/50\n",
      "8000/8000 [==============================] - 0s 37us/step - loss: 0.0304 - acc: 0.4768\n",
      "Epoch 5/50\n",
      "8000/8000 [==============================] - 0s 35us/step - loss: 0.0244 - acc: 0.4909\n",
      "Epoch 6/50\n",
      "8000/8000 [==============================] - 0s 35us/step - loss: 0.0203 - acc: 0.5045\n",
      "Epoch 7/50\n",
      "8000/8000 [==============================] - 0s 36us/step - loss: 0.0168 - acc: 0.5241\n",
      "Epoch 8/50\n",
      "8000/8000 [==============================] - 0s 36us/step - loss: 0.0152 - acc: 0.5363\n",
      "Epoch 9/50\n",
      "8000/8000 [==============================] - 0s 36us/step - loss: 0.0131 - acc: 0.5541\n",
      "Epoch 10/50\n",
      "8000/8000 [==============================] - 0s 36us/step - loss: 0.0118 - acc: 0.5683\n",
      "Epoch 11/50\n",
      "8000/8000 [==============================] - 0s 36us/step - loss: 0.0112 - acc: 0.5819\n",
      "Epoch 12/50\n",
      "8000/8000 [==============================] - 0s 35us/step - loss: 0.0105 - acc: 0.5978\n",
      "Epoch 13/50\n",
      "8000/8000 [==============================] - 0s 35us/step - loss: 0.0097 - acc: 0.6022\n",
      "Epoch 14/50\n",
      "8000/8000 [==============================] - 0s 34us/step - loss: 0.0092 - acc: 0.6190\n",
      "Epoch 15/50\n",
      "8000/8000 [==============================] - 0s 34us/step - loss: 0.0097 - acc: 0.6364\n",
      "Epoch 16/50\n",
      "8000/8000 [==============================] - 0s 34us/step - loss: 0.0089 - acc: 0.6416\n",
      "Epoch 17/50\n",
      "8000/8000 [==============================] - 0s 36us/step - loss: 0.0067 - acc: 0.6511\n",
      "Epoch 18/50\n",
      "8000/8000 [==============================] - 0s 35us/step - loss: 0.0069 - acc: 0.6576\n",
      "Epoch 19/50\n",
      "8000/8000 [==============================] - 0s 35us/step - loss: 0.0073 - acc: 0.6726\n",
      "Epoch 20/50\n",
      "8000/8000 [==============================] - 0s 35us/step - loss: 0.0068 - acc: 0.6789\n",
      "Epoch 21/50\n",
      "8000/8000 [==============================] - 0s 34us/step - loss: 0.0059 - acc: 0.6933\n",
      "Epoch 22/50\n",
      "8000/8000 [==============================] - 0s 34us/step - loss: 0.0059 - acc: 0.7012\n",
      "Epoch 23/50\n",
      "8000/8000 [==============================] - 0s 34us/step - loss: 0.0058 - acc: 0.7146\n",
      "Epoch 24/50\n",
      "8000/8000 [==============================] - 0s 33us/step - loss: 0.0055 - acc: 0.7111\n",
      "Epoch 25/50\n",
      "8000/8000 [==============================] - 0s 34us/step - loss: 0.0055 - acc: 0.7176\n",
      "Epoch 26/50\n",
      "8000/8000 [==============================] - 0s 37us/step - loss: 0.0056 - acc: 0.7198\n",
      "Epoch 27/50\n",
      "8000/8000 [==============================] - 0s 43us/step - loss: 0.0049 - acc: 0.7353\n",
      "Epoch 28/50\n",
      "8000/8000 [==============================] - 0s 40us/step - loss: 0.0050 - acc: 0.7363\n",
      "Epoch 29/50\n",
      "8000/8000 [==============================] - 0s 39us/step - loss: 0.0045 - acc: 0.7420\n",
      "Epoch 30/50\n",
      "8000/8000 [==============================] - 0s 37us/step - loss: 0.0041 - acc: 0.7538\n",
      "Epoch 31/50\n",
      "8000/8000 [==============================] - 0s 38us/step - loss: 0.0050 - acc: 0.7548\n",
      "Epoch 32/50\n",
      "8000/8000 [==============================] - 0s 37us/step - loss: 0.0046 - acc: 0.7661\n",
      "Epoch 33/50\n",
      "8000/8000 [==============================] - 0s 35us/step - loss: 0.0044 - acc: 0.7668\n",
      "Epoch 34/50\n",
      "8000/8000 [==============================] - 0s 33us/step - loss: 0.0041 - acc: 0.7684\n",
      "Epoch 35/50\n",
      "8000/8000 [==============================] - 0s 35us/step - loss: 0.0045 - acc: 0.7876\n",
      "Epoch 36/50\n",
      "8000/8000 [==============================] - 0s 35us/step - loss: 0.0041 - acc: 0.7741\n",
      "Epoch 37/50\n",
      "8000/8000 [==============================] - 0s 38us/step - loss: 0.0038 - acc: 0.7759\n",
      "Epoch 38/50\n",
      "8000/8000 [==============================] - 0s 34us/step - loss: 0.0043 - acc: 0.7947\n",
      "Epoch 39/50\n",
      "8000/8000 [==============================] - 0s 38us/step - loss: 0.0044 - acc: 0.7875\n",
      "Epoch 40/50\n",
      "8000/8000 [==============================] - 0s 36us/step - loss: 0.0035 - acc: 0.7947\n",
      "Epoch 41/50\n",
      "8000/8000 [==============================] - 0s 36us/step - loss: 0.0034 - acc: 0.7967\n",
      "Epoch 42/50\n",
      "8000/8000 [==============================] - 0s 36us/step - loss: 0.0040 - acc: 0.8056\n",
      "Epoch 43/50\n",
      "8000/8000 [==============================] - 0s 37us/step - loss: 0.0032 - acc: 0.8114\n",
      "Epoch 44/50\n",
      "8000/8000 [==============================] - 0s 36us/step - loss: 0.0037 - acc: 0.8009\n",
      "Epoch 45/50\n",
      "8000/8000 [==============================] - 0s 37us/step - loss: 0.0036 - acc: 0.8103\n",
      "Epoch 46/50\n",
      "8000/8000 [==============================] - 0s 34us/step - loss: 0.0028 - acc: 0.8073\n",
      "Epoch 47/50\n",
      "8000/8000 [==============================] - 0s 35us/step - loss: 0.0037 - acc: 0.8007\n",
      "Epoch 48/50\n",
      "8000/8000 [==============================] - 0s 35us/step - loss: 0.0038 - acc: 0.8168\n",
      "Epoch 49/50\n",
      "8000/8000 [==============================] - 0s 36us/step - loss: 0.0030 - acc: 0.8139\n",
      "Epoch 50/50\n",
      "8000/8000 [==============================] - 0s 33us/step - loss: 0.0031 - acc: 0.8141\n"
     ]
    }
   ],
   "source": [
    "# Train the model\n",
    "hist = model.fit(x_train, y_train, epochs=50, verbose = 1)"
   ]
  },
  {
   "cell_type": "code",
   "execution_count": 34,
   "metadata": {
    "collapsed": true
   },
   "outputs": [
    {
     "ename": "KeyError",
     "evalue": "'val_acc'",
     "output_type": "error",
     "traceback": [
      "\u001b[1;31m---------------------------------------------------------------------------\u001b[0m",
      "\u001b[1;31mKeyError\u001b[0m                                  Traceback (most recent call last)",
      "\u001b[1;32m<ipython-input-34-e89099b00657>\u001b[0m in \u001b[0;36m<module>\u001b[1;34m\u001b[0m\n\u001b[0;32m     10\u001b[0m \u001b[0mplt\u001b[0m\u001b[1;33m.\u001b[0m\u001b[0msubplot\u001b[0m\u001b[1;33m(\u001b[0m\u001b[1;36m1\u001b[0m\u001b[1;33m,\u001b[0m \u001b[1;36m2\u001b[0m\u001b[1;33m,\u001b[0m \u001b[1;36m1\u001b[0m\u001b[1;33m)\u001b[0m\u001b[1;33m\u001b[0m\u001b[1;33m\u001b[0m\u001b[0m\n\u001b[0;32m     11\u001b[0m \u001b[0mplt\u001b[0m\u001b[1;33m.\u001b[0m\u001b[0mplot\u001b[0m\u001b[1;33m(\u001b[0m\u001b[0mhist\u001b[0m\u001b[1;33m.\u001b[0m\u001b[0mhistory\u001b[0m\u001b[1;33m[\u001b[0m\u001b[1;34m'acc'\u001b[0m\u001b[1;33m]\u001b[0m\u001b[1;33m,\u001b[0m \u001b[0mcolor\u001b[0m\u001b[1;33m=\u001b[0m\u001b[1;34m'r'\u001b[0m\u001b[1;33m)\u001b[0m\u001b[1;33m\u001b[0m\u001b[1;33m\u001b[0m\u001b[0m\n\u001b[1;32m---> 12\u001b[1;33m \u001b[0mplt\u001b[0m\u001b[1;33m.\u001b[0m\u001b[0mplot\u001b[0m\u001b[1;33m(\u001b[0m\u001b[0mhist\u001b[0m\u001b[1;33m.\u001b[0m\u001b[0mhistory\u001b[0m\u001b[1;33m[\u001b[0m\u001b[1;34m'val_acc'\u001b[0m\u001b[1;33m]\u001b[0m\u001b[1;33m,\u001b[0m \u001b[0mcolor\u001b[0m\u001b[1;33m=\u001b[0m\u001b[1;34m'b'\u001b[0m\u001b[1;33m)\u001b[0m\u001b[1;33m\u001b[0m\u001b[1;33m\u001b[0m\u001b[0m\n\u001b[0m\u001b[0;32m     13\u001b[0m \u001b[1;33m\u001b[0m\u001b[0m\n\u001b[0;32m     14\u001b[0m \u001b[0mplt\u001b[0m\u001b[1;33m.\u001b[0m\u001b[0mfigure\u001b[0m\u001b[1;33m(\u001b[0m\u001b[0mfigsize\u001b[0m\u001b[1;33m=\u001b[0m\u001b[1;33m(\u001b[0m\u001b[1;36m8\u001b[0m\u001b[1;33m,\u001b[0m \u001b[1;36m5\u001b[0m\u001b[1;33m)\u001b[0m\u001b[1;33m)\u001b[0m\u001b[1;33m\u001b[0m\u001b[1;33m\u001b[0m\u001b[0m\n",
      "\u001b[1;31mKeyError\u001b[0m: 'val_acc'"
     ]
    },
    {
     "data": {
      "image/png": "[encoded data removed]",
      "text/plain": [
       "<Figure size 720x720 with 1 Axes>"
      ]
     },
     "metadata": {
      "needs_background": "light"
     },
     "output_type": "display_data"
    }
   ],
   "source": [
    "# ==================================================\n",
    "# Predict\n",
    "# ==================================================\n",
    "pred_x = model.predict(x_test)\n",
    "\n",
    "#print(hist)\n",
    "#print(model.get_weights())\n",
    "\n",
    "plt.figure(figsize=(10,10))\n",
    "plt.subplot(1, 2, 1)\n",
    "plt.plot(hist.history['acc'], color='r')\n",
    "plt.plot(hist.history['val_acc'], color='b')\n",
    "\n",
    "plt.figure(figsize=(8, 5))\n",
    "x = np.linspace(0, 1, n_nde)\n",
    "plt.plot(x, np.transpose(pred_x[0:10,:]))\n",
    "plt.plot(x, np.transpose(y_test[0:10,:]))\n",
    "plt.show()"
   ]
  },
  {
   "cell_type": "code",
   "execution_count": 23,
   "metadata": {
    "collapsed": true
   },
   "outputs": [
    {
     "name": "stdout",
     "output_type": "stream",
     "text": [
      "Epoch 1/50\n",
      "8000/8000 [==============================] - 1s 74us/step - loss: 2.3089 - acc: 0.2806\n",
      "Epoch 2/50\n",
      "8000/8000 [==============================] - 0s 36us/step - loss: 0.0561 - acc: 0.4711\n",
      "Epoch 3/50\n",
      "8000/8000 [==============================] - 0s 37us/step - loss: 0.0416 - acc: 0.4809\n",
      "Epoch 4/50\n",
      "8000/8000 [==============================] - 0s 37us/step - loss: 0.0330 - acc: 0.4895\n",
      "Epoch 5/50\n",
      "8000/8000 [==============================] - 0s 37us/step - loss: 0.0261 - acc: 0.4990\n",
      "Epoch 6/50\n",
      "8000/8000 [==============================] - 0s 37us/step - loss: 0.0213 - acc: 0.5129\n",
      "Epoch 7/50\n",
      "8000/8000 [==============================] - 0s 38us/step - loss: 0.0178 - acc: 0.5255\n",
      "Epoch 8/50\n",
      "8000/8000 [==============================] - 0s 35us/step - loss: 0.0152 - acc: 0.5435\n",
      "Epoch 9/50\n",
      "8000/8000 [==============================] - 0s 35us/step - loss: 0.0143 - acc: 0.5563\n",
      "Epoch 10/50\n",
      "8000/8000 [==============================] - 0s 35us/step - loss: 0.0123 - acc: 0.5679\n",
      "Epoch 11/50\n",
      "8000/8000 [==============================] - 0s 33us/step - loss: 0.0114 - acc: 0.5829\n",
      "Epoch 12/50\n",
      "8000/8000 [==============================] - 0s 36us/step - loss: 0.0107 - acc: 0.5949\n",
      "Epoch 13/50\n",
      "8000/8000 [==============================] - 0s 33us/step - loss: 0.0099 - acc: 0.6082\n",
      "Epoch 14/50\n",
      "8000/8000 [==============================] - 0s 34us/step - loss: 0.0091 - acc: 0.6275\n",
      "Epoch 15/50\n",
      "8000/8000 [==============================] - 0s 33us/step - loss: 0.0082 - acc: 0.6381\n",
      "Epoch 16/50\n",
      "8000/8000 [==============================] - 0s 33us/step - loss: 0.0076 - acc: 0.6510\n",
      "Epoch 17/50\n",
      "8000/8000 [==============================] - 0s 34us/step - loss: 0.0077 - acc: 0.6614\n",
      "Epoch 18/50\n",
      "8000/8000 [==============================] - 0s 33us/step - loss: 0.0077 - acc: 0.6745\n",
      "Epoch 19/50\n",
      "8000/8000 [==============================] - 0s 34us/step - loss: 0.0066 - acc: 0.6834\n",
      "Epoch 20/50\n",
      "8000/8000 [==============================] - 0s 34us/step - loss: 0.0061 - acc: 0.6876\n",
      "Epoch 21/50\n",
      "8000/8000 [==============================] - 0s 35us/step - loss: 0.0065 - acc: 0.7012\n",
      "Epoch 22/50\n",
      "8000/8000 [==============================] - 0s 36us/step - loss: 0.0064 - acc: 0.7086\n",
      "Epoch 23/50\n",
      "8000/8000 [==============================] - 0s 34us/step - loss: 0.0056 - acc: 0.7146\n",
      "Epoch 24/50\n",
      "8000/8000 [==============================] - 0s 33us/step - loss: 0.0057 - acc: 0.7271\n",
      "Epoch 25/50\n",
      "8000/8000 [==============================] - 0s 34us/step - loss: 0.0047 - acc: 0.7304\n",
      "Epoch 26/50\n",
      "8000/8000 [==============================] - 0s 34us/step - loss: 0.0050 - acc: 0.7365\n",
      "Epoch 27/50\n",
      "8000/8000 [==============================] - 0s 34us/step - loss: 0.0054 - acc: 0.7369\n",
      "Epoch 28/50\n",
      "8000/8000 [==============================] - 0s 35us/step - loss: 0.0050 - acc: 0.7455\n",
      "Epoch 29/50\n",
      "8000/8000 [==============================] - 0s 35us/step - loss: 0.0045 - acc: 0.7558\n",
      "Epoch 30/50\n",
      "8000/8000 [==============================] - 0s 36us/step - loss: 0.0058 - acc: 0.7635\n",
      "Epoch 31/50\n",
      "8000/8000 [==============================] - 0s 37us/step - loss: 0.0041 - acc: 0.7676\n",
      "Epoch 32/50\n",
      "8000/8000 [==============================] - 0s 37us/step - loss: 0.0042 - acc: 0.7649\n",
      "Epoch 33/50\n",
      "8000/8000 [==============================] - 0s 36us/step - loss: 0.0042 - acc: 0.7771\n",
      "Epoch 34/50\n",
      "8000/8000 [==============================] - 0s 38us/step - loss: 0.0046 - acc: 0.7674\n",
      "Epoch 35/50\n",
      "8000/8000 [==============================] - 0s 37us/step - loss: 0.0046 - acc: 0.7795\n",
      "Epoch 36/50\n",
      "8000/8000 [==============================] - 0s 34us/step - loss: 0.0044 - acc: 0.7928\n",
      "Epoch 37/50\n",
      "8000/8000 [==============================] - 0s 34us/step - loss: 0.0041 - acc: 0.7770\n",
      "Epoch 38/50\n",
      "8000/8000 [==============================] - 0s 35us/step - loss: 0.0035 - acc: 0.7815\n",
      "Epoch 39/50\n",
      "8000/8000 [==============================] - 0s 35us/step - loss: 0.0040 - acc: 0.7997\n",
      "Epoch 40/50\n",
      "8000/8000 [==============================] - 0s 39us/step - loss: 0.0037 - acc: 0.7941\n",
      "Epoch 41/50\n",
      "8000/8000 [==============================] - 0s 34us/step - loss: 0.0038 - acc: 0.8045\n",
      "Epoch 42/50\n",
      "8000/8000 [==============================] - 0s 33us/step - loss: 0.0038 - acc: 0.8120\n",
      "Epoch 43/50\n",
      "8000/8000 [==============================] - 0s 33us/step - loss: 0.0039 - acc: 0.8151\n",
      "Epoch 44/50\n",
      "8000/8000 [==============================] - 0s 34us/step - loss: 0.0035 - acc: 0.8135\n",
      "Epoch 45/50\n",
      "8000/8000 [==============================] - 0s 34us/step - loss: 0.0040 - acc: 0.8193\n",
      "Epoch 46/50\n",
      "8000/8000 [==============================] - 0s 34us/step - loss: 0.0032 - acc: 0.8026\n",
      "Epoch 47/50\n",
      "8000/8000 [==============================] - 0s 33us/step - loss: 0.0031 - acc: 0.8281\n",
      "Epoch 48/50\n",
      "8000/8000 [==============================] - 0s 35us/step - loss: 0.0037 - acc: 0.8120\n",
      "Epoch 49/50\n",
      "8000/8000 [==============================] - 0s 34us/step - loss: 0.0035 - acc: 0.7985\n",
      "Epoch 50/50\n",
      "8000/8000 [==============================] - 0s 34us/step - loss: 0.0031 - acc: 0.8286\n"
     ]
    },
    {
     "data": {
      "image/png": "[encoded data removed]",
      "text/plain": [
       "<Figure size 576x360 with 1 Axes>"
      ]
     },
     "metadata": {
      "needs_background": "light"
     },
     "output_type": "display_data"
    },
    {
     "data": {
      "image/png": "[encoded data removed]",
      "text/plain": [
       "<Figure size 576x360 with 1 Axes>"
      ]
     },
     "metadata": {
      "needs_background": "light"
     },
     "output_type": "display_data"
    }
   ],
   "source": [
    "# Define point load\n",
    "F     = np.zeros(n_dof - 2)\n",
    "F[-2] = -10000\n",
    "\n",
    "# Find reference solution\n",
    "d = np.matmul(inv(K_mat), F)\n",
    "dz = d[0::2]\n",
    "dz = np.insert(dz, 0, 0)\n",
    "\n",
    "f = F[0::2]*1/10000\n",
    "pred = model.predict(np.reshape(f, (1,len(f))))\n",
    "\n",
    "plt.figure(figsize=(8, 5))\n",
    "\n",
    "plt.plot(x, pred[0])\n",
    "plt.plot(x, dz)\n",
    "\n",
    "plt.show()"
   ]
  },
  {
   "cell_type": "code",
   "execution_count": null,
   "metadata": {},
   "outputs": [],
   "source": []
  }
 ],
 "metadata": {
  "kernelspec": {
   "display_name": "Python 3",
   "language": "python",
   "name": "python3"
  },
  "language_info": {
   "codemirror_mode": {
    "name": "ipython",
    "version": 3
   },
   "file_extension": ".py",
   "mimetype": "text/x-python",
   "name": "python",
   "nbconvert_exporter": "python",
   "pygments_lexer": "ipython3",
   "version": "3.6.8"
  }
 },
 "nbformat": 4,
 "nbformat_minor": 2
}
