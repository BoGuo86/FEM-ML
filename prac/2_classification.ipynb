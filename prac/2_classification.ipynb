{
 "cells": [
  {
   "cell_type": "code",
   "execution_count": null,
   "metadata": {
    "collapsed": true
   },
   "outputs": [],
   "source": [
    "'''\n",
    "Classification\n",
    "Last Updated : 03/28/2019, by Hyungmin Jun (hyungminjun@outlook.com)\n",
    "\n",
    "=============================================================================\n",
    "\n",
    "Classification using Keras\n",
    "Copyright 2019 Hyungmin Jun. All rights reserved.\n",
    "\n",
    "License - GPL version 3\n",
    "This program is free software: you can redistribute it and/or modify it under\n",
    "the terms of the GNU General Public License as published by the Free Software\n",
    "Foundation, either version 3 of the License, or any later version. This\n",
    "program is distributed in the hope that it will be useful, but WITHOUT ANY\n",
    "WARRANTY; without even the implied warranty of MERCHANTABILITY or FITNESS FOR\n",
    "A PARTICULAR PURPOSE. See the GNU General Public License for more details.\n",
    "You should have received a copy of the GNU General Public License along with\n",
    "this program. If not, see <http://www.gnu.org/licenses/>.\n",
    "'''\n"
   ]
  },
  {
   "cell_type": "code",
   "execution_count": 46,
   "metadata": {
    "collapsed": true
   },
   "outputs": [],
   "source": [
    "import numpy as np\n",
    "import matplotlib.pyplot as plt\n",
    "from collections import Counter\n",
    "from keras.layers import Dense\n",
    "from keras.models import Sequential\n",
    "from keras.utils import to_categorical\n",
    "\n",
    "%matplotlib inline"
   ]
  },
  {
   "cell_type": "code",
   "execution_count": 42,
   "metadata": {
    "collapsed": true
   },
   "outputs": [],
   "source": [
    "n_samples = 500\n",
    "\n",
    "x = np.array([\n",
    "    np.random.uniform(-np.pi, np.pi, n_samples),\n",
    "    np.random.uniform(-1, 1, n_samples)]).T\n",
    "\n",
    "print(x.shape)\n",
    "\n",
    "plt.scatter(x[:, 0], x[:, 1])\n",
    "plt.scatter(x[:, 0], np.sin(x[:, 0]))"
   ]
  },
  {
   "cell_type": "code",
   "execution_count": 44,
   "metadata": {
    "collapsed": true
   },
   "outputs": [
    {
     "name": "stdout",
     "output_type": "stream",
     "text": [
      "_________________________________________________________________\nLayer (type)                 Output Shape              Param #   \n=================================================================\ndense_36 (Dense)             (None, 10)                30        \n_________________________________________________________________\ndense_37 (Dense)             (None, 10)                110       \n_________________________________________________________________\ndense_38 (Dense)             (None, 10)                110       \n_________________________________________________________________\ndense_39 (Dense)             (None, 10)                110       \n_________________________________________________________________\ndense_40 (Dense)             (None, 2)                 22        \n=================================================================\nTotal params: 382\nTrainable params: 382\nNon-trainable params: 0\n_________________________________________________________________\n"
     ]
    }
   ],
   "source": [
    "y = (np.sin(x[:, 0]) < x[:, 1]).astype(np.float32)\n",
    "print(Counter(y))\n",
    "\n",
    "plt.scatter(x[:,0][y==1], x[:,1][y==1])\n",
    "plt.scatter(x[:,0][y==0], x[:,1][y==0])"
   ]
  },
  {
   "cell_type": "code",
   "execution_count": 49,
   "metadata": {
    "collapsed": true
   },
   "outputs": [
    {
     "name": "stdout",
     "output_type": "stream",
     "text": [
      "_________________________________________________________________\nLayer (type)                 Output Shape              Param #   \n=================================================================\ndense_36 (Dense)             (None, 10)                30        \n_________________________________________________________________\ndense_37 (Dense)             (None, 10)                110       \n_________________________________________________________________\ndense_38 (Dense)             (None, 10)                110       \n_________________________________________________________________\ndense_39 (Dense)             (None, 10)                110       \n_________________________________________________________________\ndense_40 (Dense)             (None, 2)                 22        \n=================================================================\nTotal params: 382\nTrainable params: 382\nNon-trainable params: 0\n_________________________________________________________________\n"
     ]
    }
   ],
   "source": [
    "model = Sequential()\n",
    "model.add(Dense(10, activation='relu', input_shape=(2,)))\n",
    "model.add(Dense(10, activation='relu'))\n",
    "model.add(Dense(10, activation='relu'))\n",
    "model.add(Dense(10, activation='relu'))\n",
    "model.add(Dense( 2, activation='softmax'))\n",
    "model.summary()\n",
    "\n",
    "y = to_categorical(y)"
   ]
  },
  {
   "cell_type": "code",
   "execution_count": 58,
   "metadata": {
    "collapsed": true
   },
   "outputs": [
    {
     "data": {
      "text/plain": [
       "<keras.callbacks.History at 0x1e24a5f5be0>"
      ]
     },
     "execution_count": 58,
     "metadata": {},
     "output_type": "execute_result"
    }
   ],
   "source": [
    "model.compile(loss='mse', optimizer='sgd', metrics=['accuracy'])\n",
    "model.fit(x, y, epochs=200, verbose=0)"
   ]
  },
  {
   "cell_type": "code",
   "execution_count": 60,
   "metadata": {},
   "outputs": [
    {
     "name": "stdout",
     "output_type": "stream",
     "text": [
      "[[-2  0]\n [ 1  0]]\n[[1.8635223e-03 9.9813640e-01]\n [1.0000000e+00 8.1675451e-11]]\n"
     ]
    }
   ],
   "source": [
    "a = np.array([-2,0])\n",
    "b = np.array([1,0])\n",
    "\n",
    "pred_x = np.vstack((a, b))\n",
    "print(pred_x)\n",
    "\n",
    "pred_y = model.predict(pred_x)\n",
    "print(pred_y)"
   ]
  },
  {
   "cell_type": "code",
   "execution_count": null,
   "metadata": {},
   "outputs": [],
   "source": []
  }
 ],
 "metadata": {
  "kernelspec": {
   "display_name": "Python 2",
   "language": "python",
   "name": "python2"
  },
  "language_info": {
   "codemirror_mode": {
    "name": "ipython",
    "version": 2
   },
   "file_extension": ".py",
   "mimetype": "text/x-python",
   "name": "python",
   "nbconvert_exporter": "python",
   "pygments_lexer": "ipython2",
   "version": "2.7.6"
  }
 },
 "nbformat": 4,
 "nbformat_minor": 0
}
